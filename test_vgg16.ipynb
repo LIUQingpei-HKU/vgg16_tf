{
 "cells": [
  {
   "cell_type": "code",
   "execution_count": 1,
   "metadata": {
    "collapsed": true
   },
   "outputs": [],
   "source": [
    "import numpy as np\n",
    "import tensorflow as tf\n",
    "import vgg16\n",
    "import utils"
   ]
  },
  {
   "cell_type": "code",
   "execution_count": 2,
   "metadata": {
    "collapsed": false
   },
   "outputs": [],
   "source": [
    "img1 = utils.load_image(\"./test_data/tiger.jpeg\")\n",
    "img2 = utils.load_image(\"test_data/puzzle.jpeg\")"
   ]
  },
  {
   "cell_type": "code",
   "execution_count": 3,
   "metadata": {
    "collapsed": true
   },
   "outputs": [],
   "source": [
    "batch1 = img1.reshape((1,224,224,3))\n",
    "batch2 = img2.reshape((1,224,224,3))\n",
    "batch = np.concatenate((batch1,batch2),0)"
   ]
  },
  {
   "cell_type": "code",
   "execution_count": 4,
   "metadata": {
    "collapsed": false
   },
   "outputs": [
    {
     "name": "stdout",
     "output_type": "stream",
     "text": [
      "/home/tf/tensorflow-vgg-master/vgg16.npy\n",
      "npy file loaded\n",
      "build model started\n",
      "build model finished: 0s\n",
      "[[  2.38407316e-09   4.29312852e-09   8.45099546e-10 ...,   7.95111799e-09\n",
      "    2.29004087e-08   1.97537027e-08]\n",
      " [  2.78825620e-08   4.09707042e-07   1.02887325e-08 ...,   1.14151270e-07\n",
      "    6.34901696e-08   1.54330210e-05]]\n",
      "('Top1: ', 'n02129604 tiger, Panthera tigris', 0.82691652)\n",
      "('Top5: ', [('n02129604 tiger, Panthera tigris', 0.82691652), ('n02123159 tiger cat', 0.17136927), ('n02128925 jaguar, panther, Panthera onca, Felis onca', 0.0012765444), ('n02127052 lynx, catamount', 0.00017351808), ('n02128385 leopard, Panthera pardus', 0.00015544184)])\n",
      "('Top1: ', 'n03598930 jigsaw puzzle', 0.99591452)\n",
      "('Top5: ', [('n03598930 jigsaw puzzle', 0.99591452), ('n03291819 envelope', 0.00028725105), ('n03908618 pencil box, pencil case', 0.00022548508), ('n03188531 diaper, nappy, napkin', 0.00021818091), ('n04033995 quilt, comforter, comfort, puff', 0.00018459363)])\n"
     ]
    }
   ],
   "source": [
    "with tf.device(\"/cpu:0\"):\n",
    "    with tf.Session() as sess:\n",
    "        images = tf.placeholder(\"float\",[2,224,224,3])\n",
    "        feed_dict={images:batch}\n",
    "        vgg = vgg16.Vgg16()\n",
    "        with tf.name_scope(\"content_vgg\"):\n",
    "            vgg.build(images)\n",
    "        \n",
    "        prob = sess.run(vgg.prob,feed_dict=feed_dict)\n",
    "        print(prob)\n",
    "        utils.print_prob(prob[0],\"./synset.txt\")\n",
    "        utils.print_prob(prob[1],\"./synset.txt\")"
   ]
  },
  {
   "cell_type": "code",
   "execution_count": null,
   "metadata": {
    "collapsed": true
   },
   "outputs": [],
   "source": []
  }
 ],
 "metadata": {
  "kernelspec": {
   "display_name": "Python 3",
   "language": "python",
   "name": "python3"
  },
  "language_info": {
   "codemirror_mode": {
    "name": "ipython",
    "version": 3
   },
   "file_extension": ".py",
   "mimetype": "text/x-python",
   "name": "python",
   "nbconvert_exporter": "python",
   "pygments_lexer": "ipython3",
   "version": "3.6.0"
  }
 },
 "nbformat": 4,
 "nbformat_minor": 2
}
