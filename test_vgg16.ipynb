{
 "cells": [
  {
   "cell_type": "code",
   "execution_count": 1,
   "metadata": {
    "collapsed": true
   },
   "outputs": [],
   "source": [
    "import numpy as np\n",
    "import tensorflow as tf\n",
    "import vgg16\n",
    "import utils"
   ]
  },
  {
   "cell_type": "code",
   "execution_count": 3,
   "metadata": {
    "collapsed": false
   },
   "outputs": [],
   "source": [
    "img1 = utils.load_image(\"./test_data/tiger.jpeg\")\n",
    "img2 = utils.load_image(\"test_data/puzzle.jpeg\")"
   ]
  },
  {
   "cell_type": "code",
   "execution_count": 4,
   "metadata": {
    "collapsed": true
   },
   "outputs": [],
   "source": [
    "batch1 = img1.reshape((1,224,224,3))\n",
    "batch2 = img2.reshape((1,224,224,3))\n",
    "batch = np.concatenate((batch1,batch2),0)"
   ]
  },
  {
   "cell_type": "code",
   "execution_count": null,
   "metadata": {
    "collapsed": true
   },
   "outputs": [],
   "source": [
    "with tf.device(\"/cpu:0\"):\n",
    "    with tf.Session() as sess:\n",
    "        image = tf.placeholder(\"float\",[2,224,224,3])\n",
    "        feed_dict={images:batch}\n",
    "        vgg = vgg16.VGG16()\n",
    "        with tf.name_scope(\"content_vgg\"):\n",
    "            vgg.build(images)\n",
    "        \n",
    "        prob = sess.run(vgg.prob,feed_dict=feed_dict)\n",
    "        print(prob)\n",
    "        utils.print_prob(prob[0],\"./synset.txt\")\n",
    "        utils.print_pr"
   ]
  }
 ],
 "metadata": {
  "kernelspec": {
   "display_name": "Python 3",
   "language": "python",
   "name": "python3"
  },
  "language_info": {
   "codemirror_mode": {
    "name": "ipython",
    "version": 3
   },
   "file_extension": ".py",
   "mimetype": "text/x-python",
   "name": "python",
   "nbconvert_exporter": "python",
   "pygments_lexer": "ipython3",
   "version": "3.6.0"
  }
 },
 "nbformat": 4,
 "nbformat_minor": 2
}
